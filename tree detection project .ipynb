{
 "cells": [
  {
   "cell_type": "code",
   "execution_count": null,
   "id": "f3737a63",
   "metadata": {},
   "outputs": [],
   "source": [
    "#object detection and color\n",
    "import cv2\n",
    "import numpy as np\n",
    "def nothing(x):\n",
    "    pass\n",
    "\n",
    "while True:\n",
    "    frame=cv2.imread('istockphoto-1323513064-1024x1024.jpg')\n",
    "    \n",
    "    hsv=cv2.cvtColor(frame,cv2.COLOR_BGR2HSV) #converting bgr to HSV color range\n",
    "    \n",
    "    \n",
    "    l_b=np.array([0, 153, 0]) #lower range (color range)\n",
    "    u_b=np.array([179, 255, 179]) #high range (color range)\n",
    "    \n",
    "    mask=cv2.inRange(hsv,l_b,u_b) #inRange:-Detect an object based on the range of pixel values in the HSV colorspace\n",
    "    \n",
    "    res=cv2.bitwise_and(frame,frame,mask=mask) #1st farme is source one and second is source two\n",
    "    \n",
    "    cv2.imshow('frame',frame)\n",
    "    cv2.imshow('mask',mask) \n",
    "    cv2.imshow('res',res)\n",
    "    key=cv2.waitKey(0)\n",
    "    if key==27:\n",
    "        break\n",
    "\n",
    "cv2.destroyAllWindows()"
   ]
  },
  {
   "cell_type": "code",
   "execution_count": null,
   "id": "b5535c22",
   "metadata": {},
   "outputs": [],
   "source": [
    "final output"
   ]
  },
  {
   "cell_type": "code",
   "execution_count": null,
   "id": "3a43b8e4",
   "metadata": {},
   "outputs": [],
   "source": []
  },
  {
   "cell_type": "code",
   "execution_count": null,
   "id": "b9e83329",
   "metadata": {},
   "outputs": [],
   "source": []
  }
 ],
 "metadata": {
  "kernelspec": {
   "display_name": "Python 3 (ipykernel)",
   "language": "python",
   "name": "python3"
  },
  "language_info": {
   "codemirror_mode": {
    "name": "ipython",
    "version": 3
   },
   "file_extension": ".py",
   "mimetype": "text/x-python",
   "name": "python",
   "nbconvert_exporter": "python",
   "pygments_lexer": "ipython3",
   "version": "3.9.13"
  }
 },
 "nbformat": 4,
 "nbformat_minor": 5
}
